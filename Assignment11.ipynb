{
 "cells": [
  {
   "cell_type": "code",
   "execution_count": 22,
   "id": "5d1679cf",
   "metadata": {},
   "outputs": [],
   "source": [
    "# Import libraries\n",
    "import pandas as pd\n",
    "import numpy as np\n",
    "import matplotlib.pyplot as plt\n",
    "import seaborn as sns\n",
    "sns.set_style('white')\n",
    "import nltk\n",
    "from nltk.corpus import stopwords\n",
    "from nltk import ngrams\n",
    "from nltk.tokenize import word_tokenize\n",
    "from textblob import TextBlob\n",
    "import wordcloud\n",
    "from wordcloud import WordCloud\n",
    "from nltk.stem import WordNetLemmatizer\n",
    "lemmatizer=WordNetLemmatizer()\n",
    "\n",
    "import warnings\n",
    "warnings.filterwarnings('ignore')"
   ]
  },
  {
   "cell_type": "markdown",
   "id": "9c94af1a",
   "metadata": {},
   "source": [
    "# 1) Perform sentimental analysis on the Elon-musk tweets (Exlon-musk.csv)"
   ]
  },
  {
   "cell_type": "code",
   "execution_count": 23,
   "id": "35f4c990",
   "metadata": {},
   "outputs": [
    {
     "data": {
      "text/html": [
       "<div>\n",
       "<style scoped>\n",
       "    .dataframe tbody tr th:only-of-type {\n",
       "        vertical-align: middle;\n",
       "    }\n",
       "\n",
       "    .dataframe tbody tr th {\n",
       "        vertical-align: top;\n",
       "    }\n",
       "\n",
       "    .dataframe thead th {\n",
       "        text-align: right;\n",
       "    }\n",
       "</style>\n",
       "<table border=\"1\" class=\"dataframe\">\n",
       "  <thead>\n",
       "    <tr style=\"text-align: right;\">\n",
       "      <th></th>\n",
       "      <th>Unnamed: 0</th>\n",
       "      <th>Text</th>\n",
       "    </tr>\n",
       "  </thead>\n",
       "  <tbody>\n",
       "    <tr>\n",
       "      <th>0</th>\n",
       "      <td>1</td>\n",
       "      <td>@kunalb11 Im an alien</td>\n",
       "    </tr>\n",
       "    <tr>\n",
       "      <th>1</th>\n",
       "      <td>2</td>\n",
       "      <td>@ID_AA_Carmack Ray tracing on Cyberpunk with H...</td>\n",
       "    </tr>\n",
       "    <tr>\n",
       "      <th>2</th>\n",
       "      <td>3</td>\n",
       "      <td>@joerogan @Spotify Great interview!</td>\n",
       "    </tr>\n",
       "    <tr>\n",
       "      <th>3</th>\n",
       "      <td>4</td>\n",
       "      <td>@gtera27 Doge is underestimated</td>\n",
       "    </tr>\n",
       "    <tr>\n",
       "      <th>4</th>\n",
       "      <td>5</td>\n",
       "      <td>@teslacn Congratulations Tesla China for amazi...</td>\n",
       "    </tr>\n",
       "  </tbody>\n",
       "</table>\n",
       "</div>"
      ],
      "text/plain": [
       "   Unnamed: 0                                               Text\n",
       "0           1                             @kunalb11 Im an alien\n",
       "1           2  @ID_AA_Carmack Ray tracing on Cyberpunk with H...\n",
       "2           3                @joerogan @Spotify Great interview!\n",
       "3           4                    @gtera27 Doge is underestimated\n",
       "4           5  @teslacn Congratulations Tesla China for amazi..."
      ]
     },
     "execution_count": 23,
     "metadata": {},
     "output_type": "execute_result"
    }
   ],
   "source": [
    "tweets = pd.read_csv(\"D:\\Assignment\\Assignments-11\\Elon_musk.csv\",encoding='ISO 8859-1')\n",
    "tweets.head()"
   ]
  },
  {
   "cell_type": "code",
   "execution_count": 24,
   "id": "49d92957",
   "metadata": {},
   "outputs": [
    {
     "data": {
      "text/plain": [
       "1999"
      ]
     },
     "execution_count": 24,
     "metadata": {},
     "output_type": "execute_result"
    }
   ],
   "source": [
    "#Viewing teh length of the input twitter data\n",
    "len(tweets.index)"
   ]
  },
  {
   "cell_type": "code",
   "execution_count": 25,
   "id": "c701605a",
   "metadata": {},
   "outputs": [],
   "source": [
    "#Creating a column tweet with all the tweets in the Text column\n",
    "tweets[\"Tweets\"] = tweets[\"Text\"]"
   ]
  },
  {
   "cell_type": "code",
   "execution_count": 26,
   "id": "1d583ba8",
   "metadata": {},
   "outputs": [
    {
     "name": "stderr",
     "output_type": "stream",
     "text": [
      "[nltk_data] Downloading package stopwords to\n",
      "[nltk_data]     C:\\Users\\Nishit\\AppData\\Roaming\\nltk_data...\n",
      "[nltk_data]   Package stopwords is already up-to-date!\n"
     ]
    },
    {
     "data": {
      "text/plain": [
       "True"
      ]
     },
     "execution_count": 26,
     "metadata": {},
     "output_type": "execute_result"
    }
   ],
   "source": [
    "from collections import Counter\n",
    "import nltk\n",
    "import string\n",
    "nltk.download('stopwords')"
   ]
  },
  {
   "cell_type": "markdown",
   "id": "c40b8f7c",
   "metadata": {},
   "source": [
    "# i) RegEx for stopwords, Replace the symbol, '|' with ' '\n",
    "# ii) Drop all stopwords\n",
    "# iii) Generate DF out of Counter"
   ]
  },
  {
   "cell_type": "code",
   "execution_count": 10,
   "id": "012bcd69",
   "metadata": {},
   "outputs": [
    {
     "data": {
      "text/html": [
       "<div>\n",
       "<style scoped>\n",
       "    .dataframe tbody tr th:only-of-type {\n",
       "        vertical-align: middle;\n",
       "    }\n",
       "\n",
       "    .dataframe tbody tr th {\n",
       "        vertical-align: top;\n",
       "    }\n",
       "\n",
       "    .dataframe thead th {\n",
       "        text-align: right;\n",
       "    }\n",
       "</style>\n",
       "<table border=\"1\" class=\"dataframe\">\n",
       "  <thead>\n",
       "    <tr style=\"text-align: right;\">\n",
       "      <th></th>\n",
       "      <th>Frequency</th>\n",
       "    </tr>\n",
       "    <tr>\n",
       "      <th>Word</th>\n",
       "      <th></th>\n",
       "    </tr>\n",
       "  </thead>\n",
       "  <tbody>\n",
       "    <tr>\n",
       "      <th></th>\n",
       "      <td>243</td>\n",
       "    </tr>\n",
       "    <tr>\n",
       "      <th>&amp;amp;</th>\n",
       "      <td>218</td>\n",
       "    </tr>\n",
       "    <tr>\n",
       "      <th>@erdayastronaut</th>\n",
       "      <td>140</td>\n",
       "    </tr>\n",
       "    <tr>\n",
       "      <th>@spacex</th>\n",
       "      <td>140</td>\n",
       "    </tr>\n",
       "    <tr>\n",
       "      <th>@ppathole</th>\n",
       "      <td>123</td>\n",
       "    </tr>\n",
       "    <tr>\n",
       "      <th>...</th>\n",
       "      <td>...</td>\n",
       "    </tr>\n",
       "    <tr>\n",
       "      <th>watch</th>\n",
       "      <td>7</td>\n",
       "    </tr>\n",
       "    <tr>\n",
       "      <th>&lt;u+2192&gt;</th>\n",
       "      <td>7</td>\n",
       "    </tr>\n",
       "    <tr>\n",
       "      <th>progress</th>\n",
       "      <td>7</td>\n",
       "    </tr>\n",
       "    <tr>\n",
       "      <th>neuralink</th>\n",
       "      <td>7</td>\n",
       "    </tr>\n",
       "    <tr>\n",
       "      <th>close</th>\n",
       "      <td>7</td>\n",
       "    </tr>\n",
       "  </tbody>\n",
       "</table>\n",
       "<p>300 rows × 1 columns</p>\n",
       "</div>"
      ],
      "text/plain": [
       "                 Frequency\n",
       "Word                      \n",
       "                      243\n",
       "&amp;                  218\n",
       "@erdayastronaut        140\n",
       "@spacex                140\n",
       "@ppathole              123\n",
       "...                    ...\n",
       "watch                    7\n",
       "<u+2192>                 7\n",
       "progress                 7\n",
       "neuralink                7\n",
       "close                    7\n",
       "\n",
       "[300 rows x 1 columns]"
      ]
     },
     "execution_count": 10,
     "metadata": {},
     "output_type": "execute_result"
    }
   ],
   "source": [
    "top_N = 100\n",
    "stopwords = nltk.corpus.stopwords.words('english')\n",
    "stopwords = stopwords + ['rt']\n",
    "RE_stopwords = r'\\b(?:{})\\b'.format('|'.join(stopwords))\n",
    "words = (tweets.Tweets\n",
    "           .str.lower()\n",
    "           .replace([r'\\|', RE_stopwords], [' ', ''], regex=True)\n",
    "           .str.cat(sep=' ')\n",
    "           .split()\n",
    ")\n",
    "\n",
    "words_data = pd.DataFrame(Counter(words).most_common(300),\n",
    "                    columns=['Word', 'Frequency']).set_index('Word')\n",
    "words_data"
   ]
  },
  {
   "cell_type": "code",
   "execution_count": 7,
   "id": "4a3f4f7c",
   "metadata": {},
   "outputs": [
    {
     "name": "stderr",
     "output_type": "stream",
     "text": [
      "[nltk_data] Downloading package vader_lexicon to\n",
      "[nltk_data]     C:\\Users\\shrut\\AppData\\Roaming\\nltk_data...\n"
     ]
    }
   ],
   "source": [
    "import nltk\n",
    "from nltk.sentiment.vader import SentimentIntensityAnalyzer\n",
    "nltk.download('vader_lexicon')\n",
    "sid = SentimentIntensityAnalyzer()"
   ]
  },
  {
   "cell_type": "markdown",
   "id": "26d06918",
   "metadata": {},
   "source": [
    "VADER Sentiment Analyzer is used to perform the sentiment analysis."
   ]
  },
  {
   "cell_type": "code",
   "execution_count": 11,
   "id": "18ce131d",
   "metadata": {},
   "outputs": [
    {
     "name": "stderr",
     "output_type": "stream",
     "text": [
      "[nltk_data] Downloading package wordnet to\n",
      "[nltk_data]     C:\\Users\\Nishit\\AppData\\Roaming\\nltk_data...\n"
     ]
    },
    {
     "data": {
      "text/plain": [
       "True"
      ]
     },
     "execution_count": 11,
     "metadata": {},
     "output_type": "execute_result"
    }
   ],
   "source": [
    "nltk.download('wordnet')"
   ]
  },
  {
   "cell_type": "markdown",
   "id": "c4769b75",
   "metadata": {},
   "source": [
    "# Visualizing the length of all tweets from the input data"
   ]
  },
  {
   "cell_type": "code",
   "execution_count": 12,
   "id": "e95ab024",
   "metadata": {},
   "outputs": [
    {
     "data": {
      "text/plain": [
       "Text(0, 0.5, 'Count')"
      ]
     },
     "execution_count": 12,
     "metadata": {},
     "output_type": "execute_result"
    },
    {
     "data": {
      "image/png": "[encoded data removed]",
      "text/plain": [
       "<Figure size 864x576 with 1 Axes>"
      ]
     },
     "metadata": {},
     "output_type": "display_data"
    }
   ],
   "source": [
    "text_length = tweets[\"Tweets\"].dropna().map(lambda x: len(x))\n",
    "plt.figure(figsize=(12,8))\n",
    "text_length.loc[text_length < 1500].hist(color='c',bins=20)\n",
    "plt.title(\"Distribution of text Length\")\n",
    "plt.xlabel('text length (Number of character)')\n",
    "plt.ylabel('Count')"
   ]
  },
  {
   "cell_type": "markdown",
   "id": "d2025d8d",
   "metadata": {},
   "source": [
    "# Cleaning the input tweets for betting understanding to the Machine"
   ]
  },
  {
   "cell_type": "code",
   "execution_count": 13,
   "id": "5ac464ed",
   "metadata": {},
   "outputs": [],
   "source": [
    "# Converting all the reviews into a Lowercase text\n",
    "tweets[\"Tweets\"]= tweets[\"Tweets\"].apply(lambda x: \" \".join(word.lower() for word in x.split()))"
   ]
  },
  {
   "cell_type": "code",
   "execution_count": 14,
   "id": "16ddaabc",
   "metadata": {},
   "outputs": [],
   "source": [
    "# Removing punctuations from the review\n",
    "import string\n",
    "tweets[\"Tweets\"]=tweets[\"Tweets\"].apply(lambda x:''.join([i for i in x  if i not in string.punctuation]))"
   ]
  },
  {
   "cell_type": "code",
   "execution_count": 15,
   "id": "dddf326b",
   "metadata": {},
   "outputs": [
    {
     "name": "stderr",
     "output_type": "stream",
     "text": [
      "C:\\Users\\Nishit\\AppData\\Local\\Temp\\ipykernel_2012\\2920729510.py:2: FutureWarning: The default value of regex will change from True to False in a future version.\n",
      "  tweets[\"Tweets\"]=tweets[\"Tweets\"].str.replace('[0-9]','')\n"
     ]
    }
   ],
   "source": [
    "# Removing Numbers from the tweets and replacing it with nothing\n",
    "tweets[\"Tweets\"]=tweets[\"Tweets\"].str.replace('[0-9]','')"
   ]
  },
  {
   "cell_type": "code",
   "execution_count": 16,
   "id": "117ef4a1",
   "metadata": {},
   "outputs": [
    {
     "name": "stderr",
     "output_type": "stream",
     "text": [
      "[nltk_data] Downloading package stopwords to\n",
      "[nltk_data]     C:\\Users\\Nishit\\AppData\\Roaming\\nltk_data...\n",
      "[nltk_data]   Package stopwords is already up-to-date!\n"
     ]
    },
    {
     "data": {
      "text/plain": [
       "True"
      ]
     },
     "execution_count": 16,
     "metadata": {},
     "output_type": "execute_result"
    }
   ],
   "source": [
    "from nltk.corpus import stopwords\n",
    "nltk.download('stopwords')"
   ]
  },
  {
   "cell_type": "code",
   "execution_count": 17,
   "id": "c5146ea2",
   "metadata": {},
   "outputs": [],
   "source": [
    "# Loading the English stopwords from the nltk.corpus library\n",
    "stop_words=stopwords.words('english')"
   ]
  },
  {
   "cell_type": "code",
   "execution_count": 18,
   "id": "59cbe9af",
   "metadata": {},
   "outputs": [],
   "source": [
    "# Removing the stopwords from the tweets\n",
    "tweets[\"Tweets\"]=tweets[\"Tweets\"].apply(lambda x: \" \".join(word for word in x.split() if word not in stop_words))"
   ]
  },
  {
   "cell_type": "code",
   "execution_count": 19,
   "id": "620f29dd",
   "metadata": {},
   "outputs": [
    {
     "data": {
      "text/html": [
       "<div>\n",
       "<style scoped>\n",
       "    .dataframe tbody tr th:only-of-type {\n",
       "        vertical-align: middle;\n",
       "    }\n",
       "\n",
       "    .dataframe tbody tr th {\n",
       "        vertical-align: top;\n",
       "    }\n",
       "\n",
       "    .dataframe thead th {\n",
       "        text-align: right;\n",
       "    }\n",
       "</style>\n",
       "<table border=\"1\" class=\"dataframe\">\n",
       "  <thead>\n",
       "    <tr style=\"text-align: right;\">\n",
       "      <th></th>\n",
       "      <th>Unnamed: 0</th>\n",
       "      <th>Text</th>\n",
       "      <th>Tweets</th>\n",
       "    </tr>\n",
       "  </thead>\n",
       "  <tbody>\n",
       "    <tr>\n",
       "      <th>0</th>\n",
       "      <td>1</td>\n",
       "      <td>@kunalb11 Im an alien</td>\n",
       "      <td>kunalb im alien</td>\n",
       "    </tr>\n",
       "    <tr>\n",
       "      <th>1</th>\n",
       "      <td>2</td>\n",
       "      <td>@ID_AA_Carmack Ray tracing on Cyberpunk with H...</td>\n",
       "      <td>idaacarmack ray tracing cyberpunk hdr nextleve...</td>\n",
       "    </tr>\n",
       "    <tr>\n",
       "      <th>2</th>\n",
       "      <td>3</td>\n",
       "      <td>@joerogan @Spotify Great interview!</td>\n",
       "      <td>joerogan spotify great interview</td>\n",
       "    </tr>\n",
       "    <tr>\n",
       "      <th>3</th>\n",
       "      <td>4</td>\n",
       "      <td>@gtera27 Doge is underestimated</td>\n",
       "      <td>gtera doge underestimated</td>\n",
       "    </tr>\n",
       "    <tr>\n",
       "      <th>4</th>\n",
       "      <td>5</td>\n",
       "      <td>@teslacn Congratulations Tesla China for amazi...</td>\n",
       "      <td>teslacn congratulations tesla china amazing ex...</td>\n",
       "    </tr>\n",
       "  </tbody>\n",
       "</table>\n",
       "</div>"
      ],
      "text/plain": [
       "   Unnamed: 0                                               Text  \\\n",
       "0           1                             @kunalb11 Im an alien   \n",
       "1           2  @ID_AA_Carmack Ray tracing on Cyberpunk with H...   \n",
       "2           3                @joerogan @Spotify Great interview!   \n",
       "3           4                    @gtera27 Doge is underestimated   \n",
       "4           5  @teslacn Congratulations Tesla China for amazi...   \n",
       "\n",
       "                                              Tweets  \n",
       "0                                   kunalb im alien  \n",
       "1  idaacarmack ray tracing cyberpunk hdr nextleve...  \n",
       "2                   joerogan spotify great interview  \n",
       "3                          gtera doge underestimated  \n",
       "4  teslacn congratulations tesla china amazing ex...  "
      ]
     },
     "execution_count": 19,
     "metadata": {},
     "output_type": "execute_result"
    }
   ],
   "source": [
    "# Creating a user defined function to clean the tweets\n",
    "import re\n",
    "import string\n",
    "'''Make text lowercase, remove text in square brackets, remove punctuation and remove words containing numbers.'''\n",
    "def clean_text(Tweets):\n",
    "    Tweets = Tweets.lower()\n",
    "    Tweets = re.sub('\\[.*?\\]', '', text)\n",
    "    data = re.sub('[%s]' % re.escape(string.punctuation), '', text)\n",
    "    Tweets = re.sub('\\w*\\d\\w*', '', text)\n",
    "    Tweets = re.sub(\"[0-9\" \"]+\",\" \",text)\n",
    "    Tweets = re.sub('[‘’“”…]', '', text)\n",
    "    \n",
    "    return Tweets\n",
    "\n",
    "clean = lambda x: clean_Tweets(x)\n",
    "tweets.head()"
   ]
  },
  {
   "cell_type": "markdown",
   "id": "a6ca48e1",
   "metadata": {},
   "source": [
    "# Lemmatize all the words in the tweet to its root word"
   ]
  },
  {
   "cell_type": "code",
   "execution_count": 20,
   "id": "ab4a6828",
   "metadata": {},
   "outputs": [
    {
     "name": "stderr",
     "output_type": "stream",
     "text": [
      "[nltk_data] Downloading package omw-1.4 to\n",
      "[nltk_data]     C:\\Users\\Nishit\\AppData\\Roaming\\nltk_data...\n"
     ]
    },
    {
     "data": {
      "text/plain": [
       "True"
      ]
     },
     "execution_count": 20,
     "metadata": {},
     "output_type": "execute_result"
    }
   ],
   "source": [
    "import nltk\n",
    "nltk.download('omw-1.4')"
   ]
  },
  {
   "cell_type": "code",
   "execution_count": 21,
   "id": "e0b3d66b",
   "metadata": {},
   "outputs": [
    {
     "ename": "ModuleNotFoundError",
     "evalue": "No module named 'textblob'",
     "output_type": "error",
     "traceback": [
      "\u001b[1;31m---------------------------------------------------------------------------\u001b[0m",
      "\u001b[1;31mModuleNotFoundError\u001b[0m                       Traceback (most recent call last)",
      "Input \u001b[1;32mIn [21]\u001b[0m, in \u001b[0;36m<cell line: 1>\u001b[1;34m()\u001b[0m\n\u001b[1;32m----> 1\u001b[0m \u001b[38;5;28;01mfrom\u001b[39;00m \u001b[38;5;21;01mtextblob\u001b[39;00m \u001b[38;5;28;01mimport\u001b[39;00m Word\n\u001b[0;32m      2\u001b[0m tweets[\u001b[38;5;124m\"\u001b[39m\u001b[38;5;124mTweets\u001b[39m\u001b[38;5;124m\"\u001b[39m]\u001b[38;5;241m=\u001b[39m tweets[\u001b[38;5;124m\"\u001b[39m\u001b[38;5;124mTweets\u001b[39m\u001b[38;5;124m\"\u001b[39m]\u001b[38;5;241m.\u001b[39mapply(\u001b[38;5;28;01mlambda\u001b[39;00m x: \u001b[38;5;124m\"\u001b[39m\u001b[38;5;124m \u001b[39m\u001b[38;5;124m\"\u001b[39m\u001b[38;5;241m.\u001b[39mjoin([Word(word)\u001b[38;5;241m.\u001b[39mlemmatize() \u001b[38;5;28;01mfor\u001b[39;00m word \u001b[38;5;129;01min\u001b[39;00m x\u001b[38;5;241m.\u001b[39msplit()]))\n",
      "\u001b[1;31mModuleNotFoundError\u001b[0m: No module named 'textblob'"
     ]
    }
   ],
   "source": [
    "from textblob import Word\n",
    "tweets[\"Tweets\"]= tweets[\"Tweets\"].apply(lambda x: \" \".join([Word(word).lemmatize() for word in x.split()]))"
   ]
  },
  {
   "cell_type": "code",
   "execution_count": null,
   "id": "7d795c33",
   "metadata": {},
   "outputs": [],
   "source": [
    "# Replace all special characters and symbols\n",
    "import re\n",
    "pattern = r\"((?<=^)|(?<= )).((?=$)|(?= ))\"\n",
    "tweets[\"Tweets\"]= tweets[\"Tweets\"].apply(lambda x:(re.sub(pattern, '',x).strip()))"
   ]
  },
  {
   "cell_type": "code",
   "execution_count": null,
   "id": "4cc7e375",
   "metadata": {},
   "outputs": [],
   "source": [
    "Tweets_set=tweets[\"Tweets\"]\n",
    "Tweets_set"
   ]
  },
  {
   "cell_type": "markdown",
   "id": "4bbb3a18",
   "metadata": {},
   "source": [
    "# A user defined function to remove all the emoji's from the tweets"
   ]
  },
  {
   "cell_type": "code",
   "execution_count": null,
   "id": "0aa34d4b",
   "metadata": {},
   "outputs": [],
   "source": [
    "import re\n",
    "import sys\n",
    "\n",
    "def remove_emoji(Tweets_set):\n",
    "    emoji_pattern = re.compile(\"[\"\n",
    "                           u\"\\U0001F600-\\U0001F64F\" \n",
    "                           u\"\\U0001F300-\\U0001F5FF\" \n",
    "                           u\"\\U0001F680-\\U0001F6FF\"  \n",
    "                           u\"\\U0001F1E0-\\U0001F1FF\"  \n",
    "                           u\"\\U00002702-\\U000027B0\"\n",
    "                           u\"\\U000024C2-\\U0001F251\"\n",
    "                           \"]+\", flags=re.UNICODE)\n",
    "    return emoji_pattern.sub(r'', string)"
   ]
  },
  {
   "cell_type": "code",
   "execution_count": null,
   "id": "0f7f697d",
   "metadata": {},
   "outputs": [],
   "source": [
    "def remove_emoji(Tweets_set):\n",
    "    emoji_pattern = re.compile(\"[\"\n",
    "                               u\"\\U0001F600-\\U0001F64F\" \n",
    "                               u\"\\U0001F300-\\U0001F5FF\" \n",
    "                               u\"\\U0001F680-\\U0001F6FF\" \n",
    "                               u\"\\U0001F1E0-\\U0001F1FF\"  \n",
    "                               u\"\\U00002500-\\U00002BEF\" \n",
    "                               u\"\\U00002702-\\U000027B0\"\n",
    "                               u\"\\U00002702-\\U000027B0\"\n",
    "                               u\"\\U000024C2-\\U0001F251\"\n",
    "                               u\"\\U0001f926-\\U0001f937\"\n",
    "                               u\"\\U00010000-\\U0010ffff\"\n",
    "                               u\"\\u2640-\\u2642\"\n",
    "                               u\"\\u2600-\\u2B55\"\n",
    "                               u\"\\u200d\"\n",
    "                               u\"\\u23cf\"\n",
    "                               u\"\\u23e9\"\n",
    "                               u\"\\u231a\"\n",
    "                               u\"\\ufe0f\"\n",
    "                               u\"\\u3030\"\n",
    "                               \"]+\", flags=re.UNICODE)\n",
    "    return emoji_pattern.sub(r'', string)"
   ]
  },
  {
   "cell_type": "markdown",
   "id": "8ffef3cd",
   "metadata": {},
   "source": [
    "# Importing countvectorizer to create a bag of words model"
   ]
  },
  {
   "cell_type": "code",
   "execution_count": null,
   "id": "91e37450",
   "metadata": {},
   "outputs": [],
   "source": [
    "from sklearn.feature_extraction.text import CountVectorizer\n",
    "vec = CountVectorizer()\n",
    "X = vec.fit_transform(tweets[\"Tweets\"])\n",
    "df = pd.DataFrame(X.toarray(), columns=vec.get_feature_names())\n",
    "print(df)"
   ]
  },
  {
   "cell_type": "markdown",
   "id": "c18e82e6",
   "metadata": {},
   "source": [
    "# Creating TF-Idf vectorizer model, which allocates different weights to different words, rather than assigning equal weights, when compared to a bag of words model"
   ]
  },
  {
   "cell_type": "code",
   "execution_count": null,
   "id": "cfa2164e",
   "metadata": {},
   "outputs": [],
   "source": [
    "from sklearn.feature_extraction.text import TfidfVectorizer\n",
    "tfidf=TfidfVectorizer()\n",
    "TFIDF=tfidf.fit_transform(tweets[\"Tweets\"])\n",
    "print(TFIDF)"
   ]
  },
  {
   "cell_type": "markdown",
   "id": "d7f95acd",
   "metadata": {},
   "source": [
    "# Visualizing the Twitter data with word cloud, to see the highly commnly used words in the tweets"
   ]
  },
  {
   "cell_type": "code",
   "execution_count": null,
   "id": "3ece5aa1",
   "metadata": {},
   "outputs": [],
   "source": [
    "Review_wordcloud = ' '.join(tweets[\"Tweets\"])\n",
    "Q_wordcloud=WordCloud(\n",
    "                    background_color='black',\n",
    "                    width=2000,\n",
    "                    height=2000\n",
    "                   ).generate(Review_wordcloud)\n",
    "fig = plt.figure(figsize = (10, 10))\n",
    "plt.axis('on')\n",
    "plt.imshow(Q_wordcloud)"
   ]
  },
  {
   "cell_type": "markdown",
   "id": "786049c4",
   "metadata": {},
   "source": [
    "# Printing the frequency of the first 20 words in the whole Elon musk tweet"
   ]
  },
  {
   "cell_type": "code",
   "execution_count": null,
   "id": "ccf531cc",
   "metadata": {},
   "outputs": [],
   "source": [
    "freq = pd.Series(' '.join(tweets[\"Tweets\"]).split()).value_counts()[0:20]\n",
    "freq"
   ]
  },
  {
   "cell_type": "code",
   "execution_count": null,
   "id": "2c24f7cf",
   "metadata": {},
   "outputs": [],
   "source": [
    "import collections\n",
    "from collections import Counter\n",
    "import nltk\n",
    "nltk.download('punkt')"
   ]
  },
  {
   "cell_type": "markdown",
   "id": "df5ed6e1",
   "metadata": {},
   "source": [
    "# Calculating the polarity score of the tweets"
   ]
  },
  {
   "cell_type": "code",
   "execution_count": null,
   "id": "e9aa1d7a",
   "metadata": {},
   "outputs": [],
   "source": [
    "from textblob import TextBlob\n",
    "tweets['polarity'] = tweets[\"Tweets\"].apply(lambda x: TextBlob(x).sentiment[0])\n",
    "tweets[['Tweets','polarity']].head()"
   ]
  },
  {
   "cell_type": "markdown",
   "id": "afb45776",
   "metadata": {},
   "source": [
    "# Displaying top 5 positive posts of Category_A"
   ]
  },
  {
   "cell_type": "code",
   "execution_count": null,
   "id": "6db8528f",
   "metadata": {},
   "outputs": [],
   "source": [
    "tweets[tweets.polarity>0].head()"
   ]
  },
  {
   "cell_type": "markdown",
   "id": "48c99d48",
   "metadata": {},
   "source": [
    "# Dropping the Text column, from the original data"
   ]
  },
  {
   "cell_type": "code",
   "execution_count": null,
   "id": "af72c1f6",
   "metadata": {},
   "outputs": [],
   "source": [
    "tweets = tweets.drop(['Text'], axis = 1)\n",
    "tweets"
   ]
  },
  {
   "cell_type": "markdown",
   "id": "5f4db079",
   "metadata": {},
   "source": [
    "# Creating a user defined function to identify if the tweets are positive, negative or neutral"
   ]
  },
  {
   "cell_type": "code",
   "execution_count": null,
   "id": "3a4370b8",
   "metadata": {},
   "outputs": [],
   "source": [
    "def sent_type(Tweets): \n",
    "    for i in (Tweets):\n",
    "        if i>0:\n",
    "            print('positive')\n",
    "        elif i==0:\n",
    "            print('neutral')\n",
    "        else:\n",
    "            print('negative')\n",
    "sent_type(tweets['polarity'])"
   ]
  },
  {
   "cell_type": "markdown",
   "id": "7a8aeb0a",
   "metadata": {},
   "source": [
    "# Assigning that a tweet is positive or negative based on the polarity score value"
   ]
  },
  {
   "cell_type": "code",
   "execution_count": null,
   "id": "0da0f523",
   "metadata": {},
   "outputs": [],
   "source": [
    "tweets[\"category\"]=tweets['polarity']\n",
    "\n",
    "tweets.loc[tweets.category > 0,'category']=\"Positive\"\n",
    "tweets.loc[tweets.category !='Positive','category']=\"Negative\"\n",
    "\n",
    "tweets[\"category\"]=tweets[\"category\"].astype('category')\n",
    "tweets.dtypes"
   ]
  },
  {
   "cell_type": "markdown",
   "id": "f162103e",
   "metadata": {},
   "source": [
    "# Visualising the positive and the negative words in the Elon musk tweet on the whole"
   ]
  },
  {
   "cell_type": "code",
   "execution_count": null,
   "id": "e9d19895",
   "metadata": {},
   "outputs": [],
   "source": [
    "sns.countplot(x='category',data=tweets,palette='hls')"
   ]
  },
  {
   "cell_type": "code",
   "execution_count": null,
   "id": "539a97d3",
   "metadata": {},
   "outputs": [],
   "source": [
    "tweets.category.value_counts(normalize=True).mul(100)"
   ]
  },
  {
   "cell_type": "markdown",
   "id": "38954741",
   "metadata": {},
   "source": [
    "# Visualising the positive and negative words used in the tweets, using Word cloud"
   ]
  },
  {
   "cell_type": "code",
   "execution_count": null,
   "id": "922bc8f3",
   "metadata": {},
   "outputs": [],
   "source": [
    "positive_reviews= tweets[tweets.category=='Positive']\n",
    "negative_reviews= tweets[tweets.category=='Negative']\n",
    "positive_reviews_text=\" \".join(positive_reviews.Tweets.to_numpy().tolist())\n",
    "negative_reviews_text=\" \".join(negative_reviews.Tweets.to_numpy().tolist())\n",
    "positive_reviews_cloud=WordCloud(background_color='black',max_words=250).generate(positive_reviews_text)\n",
    "negative_reviews_cloud=WordCloud(background_color='black',max_words=250).generate(negative_reviews_text)\n",
    "plt.imshow(positive_reviews_cloud, interpolation='bilinear')\n",
    "plt.axis(\"off\")\n",
    "plt.margins(x=0, y=0) \n",
    "plt.show()\n",
    "plt.imshow(negative_reviews_cloud,interpolation='bilinear')\n",
    "plt.axis(\"off\")\n",
    "plt.margins(x=0, y=0) \n",
    "plt.show()"
   ]
  },
  {
   "cell_type": "markdown",
   "id": "2011925d",
   "metadata": {},
   "source": [
    "# Conclusion:\n",
    "# From the model and the word cloud that we have created it is clear that, in the tweets, the most frequent words used includes amp,great,tesla,spacex etc.\n",
    "# From the probabilties predicted by sentiment analysis, these tweets have 58% negative words and 42% positive words."
   ]
  },
  {
   "cell_type": "markdown",
   "id": "760a01de",
   "metadata": {},
   "source": [
    "# 2) i) Extract reviews of any product from ecommerce website like amazon\n",
    "# ii)Perform emotion mining"
   ]
  },
  {
   "cell_type": "code",
   "execution_count": null,
   "id": "bbbf7a82",
   "metadata": {},
   "outputs": [],
   "source": [
    "import tweepy\n",
    "import re \n",
    "import nltk\n",
    "from nltk.stem import WordNetLemmatizer\n",
    "from nltk.corpus import stopwords\n",
    "wordnet = WordNetLemmatizer()\n",
    "import re\n",
    "from nltk.tokenize import sent_tokenize\n",
    "from sklearn.feature_extraction.text import TfidfVectorizer\n",
    "import requests\n",
    "from bs4 import BeautifulSoup as bs\n",
    "from selenium import webdriver"
   ]
  },
  {
   "cell_type": "code",
   "execution_count": null,
   "id": "b94fcb84",
   "metadata": {},
   "outputs": [],
   "source": [
    "samsung_reviews=[]"
   ]
  },
  {
   "cell_type": "markdown",
   "id": "f06c4ef5",
   "metadata": {},
   "source": [
    "# Extracting reviews from amazon for product Samsung Galaxy S20"
   ]
  },
  {
   "cell_type": "code",
   "execution_count": null,
   "id": "6beefdcf",
   "metadata": {},
   "outputs": [],
   "source": [
    "for i in range (1,31):\n",
    "    op=[]\n",
    "    url =\"https://www.amazon.in/product-reviews/B08444S68Q/ref=acr_dp_hist_5?ie=UTF8&filterByStar=five_star&reviewerType=all_reviews\"+str(i)\n",
    "    response = requests.get(url)\n",
    "    soup = bs(response.content,\"html.parser\")\n",
    "    reviews = soup.findAll(\"span\",attrs = {\"class\",\"a-size-base review-text review-text-content\"})\n",
    "    for i in range(len(reviews)):\n",
    "        op.append(reviews[i].text)    \n",
    "    samsung_reviews = samsung_reviews+op"
   ]
  },
  {
   "cell_type": "code",
   "execution_count": null,
   "id": "4295d9c8",
   "metadata": {},
   "outputs": [],
   "source": [
    "samsung_reviews"
   ]
  },
  {
   "cell_type": "code",
   "execution_count": null,
   "id": "bb02d585",
   "metadata": {},
   "outputs": [],
   "source": [
    "reviews = ' '.join(samsung_reviews)"
   ]
  },
  {
   "cell_type": "markdown",
   "id": "34d0ccf6",
   "metadata": {},
   "source": [
    "# Data Cleaning"
   ]
  },
  {
   "cell_type": "code",
   "execution_count": null,
   "id": "2af1073d",
   "metadata": {},
   "outputs": [],
   "source": [
    "reviews = re.sub(\"[^A-Za-z\" \"]+\",\" \",reviews).lower() \n",
    "reviews = re.sub(\"[0-9\" \"]+\",\" \",reviews).lower() \n",
    "reviews = re.sub(r'^https?:\\/\\/.*[\\r\\n]*', '', reviews).lower()"
   ]
  },
  {
   "cell_type": "markdown",
   "id": "879c4a68",
   "metadata": {},
   "source": [
    "# Tokenize"
   ]
  },
  {
   "cell_type": "code",
   "execution_count": null,
   "id": "abdd2c43",
   "metadata": {},
   "outputs": [],
   "source": [
    "reviews_token = word_tokenize(reviews)"
   ]
  },
  {
   "cell_type": "code",
   "execution_count": null,
   "id": "04e09979",
   "metadata": {},
   "outputs": [],
   "source": [
    "reviews_without_sw = [word for word in reviews_token if not word in stopwords.words()]\n",
    "reviews_without_sw"
   ]
  },
  {
   "cell_type": "code",
   "execution_count": null,
   "id": "b08e4914",
   "metadata": {},
   "outputs": [],
   "source": [
    "reviews=' '.join(reviews_without_sw)"
   ]
  },
  {
   "cell_type": "markdown",
   "id": "bce21b57",
   "metadata": {},
   "source": [
    "# Word cloud"
   ]
  },
  {
   "cell_type": "code",
   "execution_count": null,
   "id": "f87990cd",
   "metadata": {},
   "outputs": [],
   "source": [
    "def plot_cloud(wordcloud):\n",
    "    plt.figure(figsize=(40,30))\n",
    "    plt.imshow(wordcloud)\n",
    "    plt.axis('off')\n",
    "    \n",
    "\n",
    "from wordcloud import WordCloud, STOPWORDS\n",
    "STOPWORDS.add('refresh')\n",
    "wordcloud=WordCloud(width=3000,height=2000,background_color='black',max_words=70,\n",
    "                   colormap='Set1',stopwords=STOPWORDS).generate(reviews)\n",
    "plot_cloud(wordcloud)"
   ]
  },
  {
   "cell_type": "markdown",
   "id": "0d118e6c",
   "metadata": {},
   "source": [
    "# Emotion Mining"
   ]
  },
  {
   "cell_type": "code",
   "execution_count": null,
   "id": "5e7ae0e1",
   "metadata": {},
   "outputs": [],
   "source": [
    "with open(r\"C:\\Users\\shrut\\Downloads\\negative-words.txt\",encoding=\"ISO-8859-1\") as f:\n",
    "    negative=f.read().split(\"\\n\")"
   ]
  },
  {
   "cell_type": "code",
   "execution_count": null,
   "id": "9cf3180f",
   "metadata": {},
   "outputs": [],
   "source": [
    "negative = negative[35:]"
   ]
  },
  {
   "cell_type": "code",
   "execution_count": null,
   "id": "7e51d969",
   "metadata": {},
   "outputs": [],
   "source": [
    "reviews_neg=' '.join([word for word in reviews_without_sw if word in negative])"
   ]
  },
  {
   "cell_type": "markdown",
   "id": "daa3f8e1",
   "metadata": {},
   "source": [
    "# Word Cloud for negative word"
   ]
  },
  {
   "cell_type": "code",
   "execution_count": null,
   "id": "6830544a",
   "metadata": {},
   "outputs": [],
   "source": [
    "def plot_cloud(wordcloud):\n",
    "    plt.figure(figsize=(40,30))\n",
    "    plt.imshow(wordcloud)\n",
    "    plt.axis('off')\n",
    "    \n",
    "\n",
    "from wordcloud import WordCloud, STOPWORDS\n",
    "wordcloud=WordCloud(width=3000,height=2000,background_color='black',max_words=70,\n",
    "                   colormap='Set1',stopwords=STOPWORDS).generate(reviews_neg)\n",
    "plot_cloud(wordcloud)"
   ]
  },
  {
   "cell_type": "code",
   "execution_count": null,
   "id": "14612c88",
   "metadata": {},
   "outputs": [],
   "source": [
    "with open(r\"C:\\Users\\shrut\\Downloads\\positive-words.txt\",encoding=\"ISO-8859-1\") as f:\n",
    "    positive=f.read().split(\"\\n\")"
   ]
  },
  {
   "cell_type": "code",
   "execution_count": null,
   "id": "6446ae24",
   "metadata": {},
   "outputs": [],
   "source": [
    "reviews_pos=' '.join([word for word in reviews if word in positive])\n",
    "positive = positive[35:]"
   ]
  },
  {
   "cell_type": "code",
   "execution_count": null,
   "id": "52bb925c",
   "metadata": {},
   "outputs": [],
   "source": [
    "reviews_pos=' '.join([word for word in reviews_without_sw if word in positive])"
   ]
  },
  {
   "cell_type": "markdown",
   "id": "6d396c20",
   "metadata": {},
   "source": [
    "# Word Cloud for positive words"
   ]
  },
  {
   "cell_type": "code",
   "execution_count": null,
   "id": "5062c0a4",
   "metadata": {},
   "outputs": [],
   "source": [
    "def plot_cloud(wordcloud):\n",
    "    plt.figure(figsize=(40,30))\n",
    "    plt.imshow(wordcloud)\n",
    "    plt.axis('off')\n",
    "    \n",
    "\n",
    "from wordcloud import WordCloud, STOPWORDS\n",
    "wordcloud=WordCloud(width=3000,height=2000,background_color='black',max_words=70,\n",
    "                   colormap='Set1',stopwords=STOPWORDS).generate(reviews_pos)\n",
    "plot_cloud(wordcloud)"
   ]
  },
  {
   "cell_type": "code",
   "execution_count": null,
   "id": "44f32e4d",
   "metadata": {},
   "outputs": [],
   "source": []
  },
  {
   "cell_type": "code",
   "execution_count": null,
   "id": "778a8de6",
   "metadata": {},
   "outputs": [],
   "source": []
  },
  {
   "cell_type": "code",
   "execution_count": null,
   "id": "8c7056a1",
   "metadata": {},
   "outputs": [],
   "source": []
  }
 ],
 "metadata": {
  "kernelspec": {
   "display_name": "Python 3 (ipykernel)",
   "language": "python",
   "name": "python3"
  },
  "language_info": {
   "codemirror_mode": {
    "name": "ipython",
    "version": 3
   },
   "file_extension": ".py",
   "mimetype": "text/x-python",
   "name": "python",
   "nbconvert_exporter": "python",
   "pygments_lexer": "ipython3",
   "version": "3.9.12"
  }
 },
 "nbformat": 4,
 "nbformat_minor": 5
}
